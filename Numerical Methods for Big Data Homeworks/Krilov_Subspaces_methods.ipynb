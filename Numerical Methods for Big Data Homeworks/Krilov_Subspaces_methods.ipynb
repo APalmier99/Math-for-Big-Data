{
  "nbformat": 4,
  "nbformat_minor": 0,
  "metadata": {
    "colab": {
      "name": "MMNMBD_HW2.ipynb",
      "provenance": []
    },
    "kernelspec": {
      "name": "python3",
      "display_name": "Python 3"
    },
    "language_info": {
      "name": "python"
    }
  },
  "cells": [
    {
      "cell_type": "markdown",
      "source": [
        "# MMNMBD HomeWork 2 - Palmieri Anthony 2038503"
      ],
      "metadata": {
        "id": "1paMDHWODusK"
      }
    },
    {
      "cell_type": "markdown",
      "source": [
        "# Exercise 2"
      ],
      "metadata": {
        "id": "tuS2lx8Wu0Hq"
      }
    },
    {
      "cell_type": "code",
      "execution_count": 1,
      "metadata": {
        "colab": {
          "base_uri": "https://localhost:8080/",
          "height": 265
        },
        "id": "WlqtuhoBM3pv",
        "outputId": "7a100629-eaeb-4550-bfa0-679598a70a0d"
      },
      "outputs": [
        {
          "output_type": "display_data",
          "data": {
            "text/plain": [
              "<Figure size 432x288 with 1 Axes>"
            ],
            "image/png": "[encoded data removed]"
          },
          "metadata": {
            "needs_background": "light"
          }
        }
      ],
      "source": [
        "import numpy as np\n",
        "import numpy.linalg as la\n",
        "import matplotlib.pyplot as plt\n",
        "\n",
        "D = np.diag([1/np.sqrt(j) for j in range(1,65)])\n",
        "UD = np.diag([1/np.sqrt(j) for j in range(1,64)],1)\n",
        "A = D+UD\n",
        "\n",
        "# clearly the eigenvalues of A are just the diagonal elements, in particular they're all real numbers\n",
        "eigenvalues = np.linalg.eigvals(A)\n",
        "# rightmost eigenvalue\n",
        "lmbd = max(eigenvalues)\n",
        "\n",
        "# let's plot the eigenvalues of A\n",
        "plt.scatter(eigenvalues, np.zeros(64))\n",
        "plt.ylabel('eigenvalues of A')\n",
        "plt.show()"
      ]
    },
    {
      "cell_type": "markdown",
      "source": [
        "## Arnoldi Algorithm"
      ],
      "metadata": {
        "id": "E2tqON4rTMsC"
      }
    },
    {
      "cell_type": "code",
      "source": [
        "# Arnoldi algorithm\n",
        "# notice that we used eps as a tolerance value to check H[j+1,j]=0 at each iteration\n",
        "# That's because checking H[j+1,j]=0 is numerically unstable\n",
        "\n",
        "def Arnoldi_iter(A,x,m):\n",
        "  eps = 1e-13  \n",
        "  Q = np.zeros((A.shape[0], A.shape[1]+1))\n",
        "  H = np.zeros((A.shape[0]+1, A.shape[1]))\n",
        "  Q[:, 0] = x/la.norm(x)\n",
        "  for j in range(m):    \n",
        "    r = np.dot(A, Q[:, j])\n",
        "    for i in range(j+1):\n",
        "      H[i, j]= np.dot(Q[:, i].T, np.dot(A, Q[:, j]))      \n",
        "      r = r-H[i,j]*Q[:,i]    \n",
        "    beta = la.norm(r)    \n",
        "    if beta<eps:\n",
        "      return Q[:,:j], H[:j,:j]\n",
        "    else:\n",
        "      H[j+1,j] = beta\n",
        "      Q[:, j+1]=r/H[j+1,j]      \n",
        "  return Q[:,:m+1], H[:m+1,:m]"
      ],
      "metadata": {
        "id": "GoLM83z2QpxZ"
      },
      "execution_count": 2,
      "outputs": []
    },
    {
      "cell_type": "markdown",
      "source": [
        "let's apply Arnoldi iteration on matrix A with starting vector x0, and let's plot the Ritz values."
      ],
      "metadata": {
        "id": "GWmzW8I0TR_x"
      }
    },
    {
      "cell_type": "code",
      "source": [
        "from random import randint\n",
        "import matplotlib.pyplot as plt\n",
        "from IPython.display import clear_output\n",
        "    \n",
        "# Randomly generated starting vector\n",
        "np.random.seed(42)\n",
        "x0=np.random.randn(64)\n",
        "\n",
        "# dictionary we'll use to store Ritz values for each m=1, ..., 30\n",
        "n=30\n",
        "ritz_values={}\n",
        "for m in range(1,n+1):\n",
        "  Q_mplus1, H_m_tilde = Arnoldi_iter(A,x0,m)\n",
        "  if H_m_tilde.shape==(m+1,m):\n",
        "    H_m = H_m_tilde[:m,:m]\n",
        "  else:\n",
        "    H_m=H_m_tilde\n",
        "  # compute Ritz values for H_m and save them in the dictionary\n",
        "  ritz_values[m]= np.linalg.eigvals(H_m)\n",
        "\n",
        "# let's plot the Ritz values\n",
        "for key in ritz_values.keys():\n",
        "  x,y=[],[] # we'll use these variables for the scatter plots\n",
        "  clear_output(wait=True) \n",
        "  for elem in ritz_values[key]:\n",
        "      x.append(elem.real)\n",
        "      y.append(elem.imag)  \n",
        "  plt.scatter(x, y)\n",
        "  plt.title(f'Ritz values (m={key})')\n",
        "  plt.show()"
      ],
      "metadata": {
        "colab": {
          "base_uri": "https://localhost:8080/",
          "height": 281
        },
        "id": "-lgB_jDbgUb-",
        "outputId": "942bb9b3-8ac6-4bad-e2d4-1d2f5ba3e05b"
      },
      "execution_count": 4,
      "outputs": [
        {
          "output_type": "display_data",
          "data": {
            "text/plain": [
              "<Figure size 432x288 with 1 Axes>"
            ],
            "image/png": "[encoded data removed]"
          },
          "metadata": {
            "needs_background": "light"
          }
        }
      ]
    },
    {
      "cell_type": "markdown",
      "source": [
        "let's have a look at the convergence rate to the rightmost eigenvalue of A"
      ],
      "metadata": {
        "id": "Vw1IYeyf74Ff"
      }
    },
    {
      "cell_type": "code",
      "source": [
        "x = range(len(ritz_values.keys()))\n",
        "y = [np.abs(max(ritz_values[m])-lmbd) for m in ritz_values.keys()]\n",
        "plt.plot(x,y)"
      ],
      "metadata": {
        "colab": {
          "base_uri": "https://localhost:8080/",
          "height": 282
        },
        "id": "5UEPqj3M6fI2",
        "outputId": "fd10fabb-7295-4ed5-b225-2cfe090d2ef4"
      },
      "execution_count": 5,
      "outputs": [
        {
          "output_type": "execute_result",
          "data": {
            "text/plain": [
              "[<matplotlib.lines.Line2D at 0x7fb281be43d0>]"
            ]
          },
          "metadata": {},
          "execution_count": 5
        },
        {
          "output_type": "display_data",
          "data": {
            "text/plain": [
              "<Figure size 432x288 with 1 Axes>"
            ],
            "image/png": "[encoded data removed]"
          },
          "metadata": {
            "needs_background": "light"
          }
        }
      ]
    },
    {
      "cell_type": "markdown",
      "source": [
        "The convergence is quite fast. It takes less than 10 iterations for the error to go to zero."
      ],
      "metadata": {
        "id": "4wTUb6DuNOSC"
      }
    },
    {
      "cell_type": "markdown",
      "source": [
        "# Exercise 3"
      ],
      "metadata": {
        "id": "xrdO7toYusMo"
      }
    },
    {
      "cell_type": "code",
      "source": [
        "# In the following we define the lemniscates() function, which given a matrix A, a starting vector x, and a number m\n",
        "# plots Arnoldi lemniscates of the characteristic polynomial of the Hessenberg matrix Hm obtained after m Arnoldi iterations\n",
        "# It also computes the eigenvalues of A and the Ritz values of Hm\n",
        "\n",
        "def lemniscates(A, x, m, lower_x=-1.5, upper_x=1.5, lower_y=-1.5, upper_y=1.5):\n",
        "  Q_mplus1, H_m_tilde = Arnoldi_iter(A,x,m)\n",
        "\n",
        "  if H_m_tilde.shape==(m+1,m):\n",
        "    H_m = H_m_tilde[:m,:m]\n",
        "  else:\n",
        "    H_m=H_m_tilde\n",
        " \n",
        "  # characteristic polynomial of Hm\n",
        "  char_poly = np.poly(H_m)\n",
        "  # which we recall being the m-deegre polynomial minimizing ||p_m(A)||\n",
        "  min_m_poly = char_poly\n",
        "  # constant coefficient defining the level of the Arnoldi lemniscate  \n",
        "  coeff = la.norm(np.dot(np.polyval(min_m_poly, A),x))/la.norm(x)\n",
        "  \n",
        "  # plotting the lemniscate\n",
        "  x=np.linspace(lower_x,upper_x,400)\n",
        "  y=np.linspace(lower_y,upper_y,400)\n",
        "  X, Y = np.meshgrid(x, y)  \n",
        "  Z = np.abs(np.polyval(min_m_poly, X + 1j*Y))\n",
        "  plt.contour(X, Y, Z, levels=[coeff,], alpha=1)\n",
        "  plt.title(f'Arnoldi lemniscates (m={m})')\n",
        "  \n",
        "  # plotting the eigenvalues of A\n",
        "  x,y=[],[]\n",
        "  eig_vls = la.eigvals(A)\n",
        "  print(f'Eigenvalues: {eig_vls}')\n",
        "  for elem in eig_vls:\n",
        "      x.append(elem.real)\n",
        "      y.append(elem.imag)  \n",
        "  plt.scatter(x, y, c='blue', alpha=0.5)\n",
        "\n",
        "  # plotting the Ritz values of Hm\n",
        "  x,y=[],[]\n",
        "  ritz_vls = la.eigvals(H_m)\n",
        "  print(f'Ritz values: {ritz_vls}')\n",
        "  for elem in ritz_vls:\n",
        "      x.append(elem.real)\n",
        "      y.append(elem.imag)  \n",
        "  plt.scatter(x, y, c='red', alpha=0.7)\n",
        "\n",
        "  plt.show()\n",
        "  return \n",
        "\n",
        "# let's have a look at the lemniscates we obtain after 30 Arnoldi iterations\n",
        "lemniscates(A,x0,30)"
      ],
      "metadata": {
        "colab": {
          "base_uri": "https://localhost:8080/",
          "height": 646
        },
        "id": "sE56M6D8U-U6",
        "outputId": "3b0cead2-422b-4887-9d61-644c2d9bc797"
      },
      "execution_count": 6,
      "outputs": [
        {
          "output_type": "stream",
          "name": "stdout",
          "text": [
            "Eigenvalues: [1.         0.70710678 0.57735027 0.5        0.4472136  0.40824829\n",
            " 0.37796447 0.35355339 0.33333333 0.31622777 0.30151134 0.28867513\n",
            " 0.2773501  0.26726124 0.25819889 0.25       0.24253563 0.23570226\n",
            " 0.22941573 0.2236068  0.21821789 0.21320072 0.20851441 0.20412415\n",
            " 0.2        0.19611614 0.19245009 0.18898224 0.18569534 0.18257419\n",
            " 0.1796053  0.1767767  0.17407766 0.17149859 0.16903085 0.16666667\n",
            " 0.16439899 0.16222142 0.16012815 0.15811388 0.15617376 0.15430335\n",
            " 0.15249857 0.15075567 0.1490712  0.14744196 0.14586499 0.14433757\n",
            " 0.14285714 0.14142136 0.14002801 0.13867505 0.13736056 0.13608276\n",
            " 0.13483997 0.13363062 0.13245324 0.13130643 0.13018891 0.12909944\n",
            " 0.12803688 0.12700013 0.12598816 0.125     ]\n",
            "Ritz values: [1.        +0.j         0.70710678+0.j         0.57735035+0.j\n",
            " 0.49968689+0.j         0.46559423+0.j         0.44714411+0.0396245j\n",
            " 0.44714411-0.0396245j  0.37574012+0.10226293j 0.37574012-0.10226293j\n",
            " 0.35396757+0.11506525j 0.35396757-0.11506525j 0.2806165 +0.15215148j\n",
            " 0.2806165 -0.15215148j 0.29895998+0.j         0.22534496+0.16158781j\n",
            " 0.22534496-0.16158781j 0.20558888+0.15654025j 0.20558888-0.15654025j\n",
            " 0.16347177+0.16757524j 0.16347177-0.16757524j 0.09874451+0.13264545j\n",
            " 0.09874451-0.13264545j 0.05495476+0.11185626j 0.05495476-0.11185626j\n",
            " 0.01781299+0.06309535j 0.01781299-0.06309535j 0.01142429+0.02367918j\n",
            " 0.01142429-0.02367918j 0.07443109+0.07362605j 0.07443109-0.07362605j]\n"
          ]
        },
        {
          "output_type": "display_data",
          "data": {
            "text/plain": [
              "<Figure size 432x288 with 1 Axes>"
            ],
            "image/png": "[encoded data removed]"
          },
          "metadata": {
            "needs_background": "light"
          }
        }
      ]
    },
    {
      "cell_type": "markdown",
      "source": [
        "### Exercise 3 - point (b)"
      ],
      "metadata": {
        "id": "RkEUdjr7QKZG"
      }
    },
    {
      "cell_type": "code",
      "source": [
        "np.random.seed(42)\n",
        "A = np.random.normal(0,10, (100,100))\n",
        "x0 = np.random.normal(0,10, 100)\n",
        "# let's have a look at the lemniscates we obtain after 60 Arnoldi iterations\n",
        "lemniscates(A,x0,60, lower_x=-150, upper_x=150, lower_y=-150, upper_y=150) \n",
        "\n",
        "B = A.copy()\n",
        "B[1,1]=1.5\n",
        "# let's have a look at the lemniscates we obtain after 60 Arnoldi iterations\n",
        "lemniscates(B,x0,60, lower_x=-150, upper_x=150, lower_y=-150, upper_y=150) "
      ],
      "metadata": {
        "colab": {
          "base_uri": "https://localhost:8080/",
          "height": 1000
        },
        "id": "u8QdDGUuhwL_",
        "outputId": "f93fe12f-aa08-49cc-ffea-8939fe911206"
      },
      "execution_count": 7,
      "outputs": [
        {
          "output_type": "stream",
          "name": "stdout",
          "text": [
            "Eigenvalues: [ 44.52353187+97.12079227j  44.52353187-97.12079227j\n",
            " -98.20846828+40.7955485j  -98.20846828-40.7955485j\n",
            "  88.15784208+55.45686575j  88.15784208-55.45686575j\n",
            "  73.37559001+64.56498838j  73.37559001-64.56498838j\n",
            " -99.10516072 +0.j          12.31155901+93.43614122j\n",
            "  12.31155901-93.43614122j   6.4466401 +93.66952065j\n",
            "   6.4466401 -93.66952065j  94.93507847 +0.j\n",
            "  29.18455802+86.3008809j   29.18455802-86.3008809j\n",
            "  86.08367639+35.56476141j  86.08367639-35.56476141j\n",
            " -89.51576623 +0.j         -64.06573284+62.65857574j\n",
            " -64.06573284-62.65857574j -56.62788684+66.45868937j\n",
            " -56.62788684-66.45868937j -43.02556252+75.79505143j\n",
            " -43.02556252-75.79505143j -24.35717724+80.26988374j\n",
            " -24.35717724-80.26988374j  80.77284341+26.00128673j\n",
            "  80.77284341-26.00128673j  52.17464438+64.01588673j\n",
            "  52.17464438-64.01588673j -85.36353558 +6.67244907j\n",
            " -85.36353558 -6.67244907j  79.94679742+12.3916355j\n",
            "  79.94679742-12.3916355j  -44.16090856+67.13189636j\n",
            " -44.16090856-67.13189636j  13.05846275+78.17096676j\n",
            "  13.05846275-78.17096676j -74.83390845+24.28809338j\n",
            " -74.83390845-24.28809338j  71.607608   +0.j\n",
            "  61.25868031+38.95809657j  61.25868031-38.95809657j\n",
            " -63.35733812+36.59059263j -63.35733812-36.59059263j\n",
            " -18.68928259+69.39517853j -18.68928259-69.39517853j\n",
            "  49.52879018+49.44344123j  49.52879018-49.44344123j\n",
            " -66.71692233 +7.25578578j -66.71692233 -7.25578578j\n",
            "  13.38546704+66.22365529j  13.38546704-66.22365529j\n",
            "  63.89225028+10.75029549j  63.89225028-10.75029549j\n",
            " -55.40312244+33.83864244j -55.40312244-33.83864244j\n",
            " -49.66104512+41.52413725j -49.66104512-41.52413725j\n",
            "  -3.15269726+60.23054681j  -3.15269726-60.23054681j\n",
            "  55.87015399 +0.j          50.52697305+24.71701407j\n",
            "  50.52697305-24.71701407j  11.66861763+56.99761276j\n",
            "  11.66861763-56.99761276j -28.01005169+48.19540121j\n",
            " -28.01005169-48.19540121j  45.68811009 +0.j\n",
            " -39.35969142+39.32892134j -39.35969142-39.32892134j\n",
            "  22.08359304+48.16847818j  22.08359304-48.16847818j\n",
            "  -8.60152659+47.82052395j  -8.60152659-47.82052395j\n",
            "  30.28664998+40.68066647j  30.28664998-40.68066647j\n",
            "  32.60726569+34.99275867j  32.60726569-34.99275867j\n",
            " -44.97070237+17.90881953j -44.97070237-17.90881953j\n",
            " -20.73321261+38.59284299j -20.73321261-38.59284299j\n",
            "  31.29137166+24.89052817j  31.29137166-24.89052817j\n",
            " -40.11766437 +0.j          33.80220046 +0.j\n",
            " -31.04551992 +7.23284749j -31.04551992 -7.23284749j\n",
            "   8.28395825+27.33167895j   8.28395825-27.33167895j\n",
            " -26.92421548 +0.j          -9.08035243+16.78092191j\n",
            "  -9.08035243-16.78092191j  27.68739618 +0.j\n",
            " -12.64722978 +5.88943244j -12.64722978 -5.88943244j\n",
            "   6.71040422 +0.j           3.07697017 +0.j        ]\n",
            "Ritz values: [-98.20846828+40.79554878j -98.20846828-40.79554878j\n",
            " -99.10554034 +0.j         -89.49736494 +0.j\n",
            " -84.90576045 +6.30699767j -84.90576045 -6.30699767j\n",
            " -64.0682738 +62.66076448j -64.0682738 -62.66076448j\n",
            " -74.09807244+24.62106581j -74.09807244-24.62106581j\n",
            " -72.43342997 +0.j         -56.63366177+66.46793099j\n",
            " -56.63366177-66.46793099j -43.0308447 +75.79726853j\n",
            " -43.0308447 -75.79726853j -60.72568994+39.07810105j\n",
            " -60.72568994-39.07810105j -44.20936483+67.09819418j\n",
            " -44.20936483-67.09819418j -53.19357358+40.43101066j\n",
            " -53.19357358-40.43101066j  44.52353279+97.12079229j\n",
            "  44.52353279-97.12079229j -24.27301255+80.21272741j\n",
            " -24.27301255-80.21272741j   6.45214428+93.66992074j\n",
            "   6.45214428-93.66992074j  12.31515581+93.42945106j\n",
            "  12.31515581-93.42945106j -20.06902   +67.12223211j\n",
            " -20.06902   -67.12223211j  29.18675422+86.29998924j\n",
            "  29.18675422-86.29998924j  12.87130117+78.3075752j\n",
            "  12.87130117-78.3075752j   -3.42469532+65.53855738j\n",
            "  -3.42469532-65.53855738j  88.15784316+55.45686358j\n",
            "  88.15784316-55.45686358j  73.37556906+64.56503435j\n",
            "  73.37556906-64.56503435j  17.33528841+59.56620233j\n",
            "  17.33528841-59.56620233j  52.19504174+64.03581858j\n",
            "  52.19504174-64.03581858j  86.08627506+35.5636997j\n",
            "  86.08627506-35.5636997j   94.934989   +0.j\n",
            "  80.89620833+26.18942718j  80.89620833-26.18942718j\n",
            "  79.82411989+12.99855906j  79.82411989-12.99855906j\n",
            "  60.72970196+39.86306371j  60.72970196-39.86306371j\n",
            "  49.27741192+47.86746276j  49.27741192-47.86746276j\n",
            "  62.3286744  +0.j          38.97122013 +0.j\n",
            " -21.33963214+32.30978105j -21.33963214-32.30978105j]\n"
          ]
        },
        {
          "output_type": "display_data",
          "data": {
            "text/plain": [
              "<Figure size 432x288 with 1 Axes>"
            ],
            "image/png": "[encoded data removed]"
          },
          "metadata": {
            "needs_background": "light"
          }
        },
        {
          "output_type": "stream",
          "name": "stdout",
          "text": [
            "Eigenvalues: [ 44.62957573+96.95247339j  44.62957573-96.95247339j\n",
            " -98.20108459+40.80322848j -98.20108459-40.80322848j\n",
            "  88.23140204+55.43475561j  88.23140204-55.43475561j\n",
            "  73.3038698 +64.57737668j  73.3038698 -64.57737668j\n",
            "  94.9671076  +0.j         -99.9736246  +0.j\n",
            "  86.03510479+35.77105718j  86.03510479-35.77105718j\n",
            "  12.15364984+93.14323591j  12.15364984-93.14323591j\n",
            "   6.83240089+93.73405753j   6.83240089-93.73405753j\n",
            "  29.10797074+86.4362383j   29.10797074-86.4362383j\n",
            " -64.0308745 +62.48111978j -64.0308745 -62.48111978j\n",
            " -87.70642805 +0.j         -56.65142691+66.71227018j\n",
            " -56.65142691-66.71227018j -42.91568733+75.87574277j\n",
            " -42.91568733-75.87574277j -24.39670672+80.357678j\n",
            " -24.39670672-80.357678j   -85.38187309 +6.4602415j\n",
            " -85.38187309 -6.4602415j   81.18806274+25.91589468j\n",
            "  81.18806274-25.91589468j  52.34128742+63.95940251j\n",
            "  52.34128742-63.95940251j  79.91995277+12.48740322j\n",
            "  79.91995277-12.48740322j -43.89417268+66.93547779j\n",
            " -43.89417268-66.93547779j  13.14554728+78.12287289j\n",
            "  13.14554728-78.12287289j -74.82705979+24.39420507j\n",
            " -74.82705979-24.39420507j  61.47003634+39.03979207j\n",
            "  61.47003634-39.03979207j -18.64153016+69.46688051j\n",
            " -18.64153016-69.46688051j -63.09694192+36.63028855j\n",
            " -63.09694192-36.63028855j  71.65636354 +0.j\n",
            "  49.23409692+49.58856962j  49.23409692-49.58856962j\n",
            " -66.88375726 +7.16780974j -66.88375726 -7.16780974j\n",
            "  55.56664424 +0.j          13.47217117+66.53357169j\n",
            "  13.47217117-66.53357169j -55.26443104+34.09948395j\n",
            " -55.26443104-34.09948395j  63.97556784+10.60253061j\n",
            "  63.97556784-10.60253061j -49.99859631+41.07776031j\n",
            " -49.99859631-41.07776031j  -3.04403298+60.33168566j\n",
            "  -3.04403298-60.33168566j  11.6509293 +57.02294757j\n",
            "  11.6509293 -57.02294757j -27.40600901+48.77366624j\n",
            " -27.40600901-48.77366624j  50.22454215+24.99132625j\n",
            "  50.22454215-24.99132625j -39.69970373+39.55547007j\n",
            " -39.69970373-39.55547007j  21.92225918+47.94145175j\n",
            "  21.92225918-47.94145175j  45.42574595 +0.j\n",
            "  -8.12696686+47.53958469j  -8.12696686-47.53958469j\n",
            "  30.43399671+40.7774193j   30.43399671-40.7774193j\n",
            " -45.2207267 +18.05627221j -45.2207267 -18.05627221j\n",
            "  32.58735606+34.80263636j  32.58735606-34.80263636j\n",
            " -20.91734463+37.72963349j -20.91734463-37.72963349j\n",
            "  31.35103903+24.86661261j  31.35103903-24.86661261j\n",
            " -40.11649133 +0.j          34.08990746 +0.j\n",
            " -30.85852291 +7.41663552j -30.85852291 -7.41663552j\n",
            "   8.21052389+27.29281595j   8.21052389-27.29281595j\n",
            " -28.08626367 +0.j          -8.57285181+15.67082104j\n",
            "  -8.57285181-15.67082104j  27.51572984 +0.j\n",
            " -11.82012349 +6.15072925j -11.82012349 -6.15072925j\n",
            "   7.20723322 +0.j           3.28958246 +0.j        ]\n",
            "Ritz values: [-98.20108456+40.80322877j -98.20108456-40.80322877j\n",
            " -99.97380466 +0.j         -87.48168498 +0.j\n",
            " -84.92251889 +5.91020717j -84.92251889 -5.91020717j\n",
            " -64.0334704 +62.48347887j -64.0334704 -62.48347887j\n",
            " -74.13985509+24.72861554j -74.13985509-24.72861554j\n",
            " -73.16304123 +0.j         -56.6566836 +66.72012637j\n",
            " -56.6566836 -66.72012637j -42.9212392 +75.877929j\n",
            " -42.9212392 -75.877929j   -60.89085825+39.19924634j\n",
            " -60.89085825-39.19924634j -43.94959661+66.89384876j\n",
            " -43.94959661-66.89384876j -53.59504076+40.38189712j\n",
            " -53.59504076-40.38189712j  44.62957664+96.95247348j\n",
            "  44.62957664-96.95247348j -24.31379582+80.30145957j\n",
            " -24.31379582-80.30145957j   6.83895836+93.73565991j\n",
            "   6.83895836-93.73565991j  12.15788505+93.13418275j\n",
            "  12.15788505-93.13418275j -20.05780151+67.11364127j\n",
            " -20.05780151-67.11364127j  29.10991491+86.43514931j\n",
            "  29.10991491-86.43514931j  12.91917589+78.28089851j\n",
            "  12.91917589-78.28089851j  -3.53449941+65.83653443j\n",
            "  -3.53449941-65.83653443j  88.23140301+55.43475339j\n",
            "  88.23140301-55.43475339j  73.30384423+64.57742218j\n",
            "  73.30384423-64.57742218j  17.5893517 +59.59039334j\n",
            "  17.5893517 -59.59039334j  52.36100259+63.9816914j\n",
            "  52.36100259-63.9816914j   94.96702152 +0.j\n",
            "  86.03759143+35.76960894j  86.03759143-35.76960894j\n",
            "  48.99105332+48.16468502j  48.99105332-48.16468502j\n",
            "  81.28935529+26.07530304j  81.28935529-26.07530304j\n",
            "  79.81275077+13.08408683j  79.81275077-13.08408683j\n",
            "  60.9597589 +39.89785814j  60.9597589 -39.89785814j\n",
            "  61.84175925 +0.j          39.31008289 +0.j\n",
            " -20.96480546+31.03852273j -20.96480546-31.03852273j]\n"
          ]
        },
        {
          "output_type": "display_data",
          "data": {
            "text/plain": [
              "<Figure size 432x288 with 1 Axes>"
            ],
            "image/png": "[encoded data removed]"
          },
          "metadata": {
            "needs_background": "light"
          }
        }
      ]
    },
    {
      "cell_type": "markdown",
      "source": [
        "We observe that even altering the matrix the situation hasn't changed much. The configuration of eigenvalues and Ritz values seems pretty much the same, even though the Arnoldi lemniscates appear to be slightly different."
      ],
      "metadata": {
        "id": "yzz9gqXXQv2s"
      }
    },
    {
      "cell_type": "markdown",
      "source": [
        "let's analyse the convergence to the\n",
        "eigenvalue of B with the largest real part."
      ],
      "metadata": {
        "id": "1TgYvA3r_toj"
      }
    },
    {
      "cell_type": "code",
      "source": [
        "# dictionary we'll use to store Ritz values for each m=1, ..., 100\n",
        "n=100\n",
        "ritz_values={}\n",
        "for m in range(1,n+1):\n",
        "  Q_mplus1, H_m_tilde = Arnoldi_iter(B,x0,m)\n",
        "  if H_m_tilde.shape==(m+1,m):\n",
        "    H_m = H_m_tilde[:m,:m]\n",
        "  else:\n",
        "    H_m=H_m_tilde\n",
        "  # compute Ritz values for H_m and save them in the dictionary\n",
        "  ritz_values[m]= np.linalg.eigvals(H_m)\n",
        "\n",
        "B_eigs = la.eigvals(B)\n",
        "# eigenvalue of B with largest real part\n",
        "largest_real_part = np.max([eig.real for eig in B_eigs])\n",
        "lambd = [eig for eig in B_eigs if eig.real==largest_real_part][0]\n",
        "\n",
        "x = range(len(ritz_values.keys()))\n",
        "y = [np.abs(max(ritz_values[m])-lambd) for m in ritz_values.keys()]\n",
        "plt.plot(x,y)"
      ],
      "metadata": {
        "colab": {
          "base_uri": "https://localhost:8080/",
          "height": 282
        },
        "id": "7FkILGIw_xmW",
        "outputId": "81779fc8-a273-4f8a-9f0c-9db5f4dfbbe4"
      },
      "execution_count": 8,
      "outputs": [
        {
          "output_type": "execute_result",
          "data": {
            "text/plain": [
              "[<matplotlib.lines.Line2D at 0x7fb281c0f810>]"
            ]
          },
          "metadata": {},
          "execution_count": 8
        },
        {
          "output_type": "display_data",
          "data": {
            "text/plain": [
              "<Figure size 432x288 with 1 Axes>"
            ],
            "image/png": "[encoded data removed]"
          },
          "metadata": {
            "needs_background": "light"
          }
        }
      ]
    },
    {
      "cell_type": "markdown",
      "source": [
        "In this case the convergence is not so smooth, even though it's still quite fast."
      ],
      "metadata": {
        "id": "OOYgLFvFSil-"
      }
    },
    {
      "cell_type": "markdown",
      "source": [
        "# Exercise 4"
      ],
      "metadata": {
        "id": "M78acY9Xul7n"
      }
    },
    {
      "cell_type": "code",
      "source": [
        "np.random.seed(42)\n",
        "B = np.random.normal(0,1,(100,100))\n",
        "x0 = np.random.normal(0,1,100)\n",
        "A = B+B.T\n",
        "\n",
        "norms = {}\n",
        "for k in range(1,101):\n",
        "  Q_kplus1, H_k_tilde = Arnoldi_iter(A, x0, k)\n",
        "\n",
        "  if Q_kplus1.shape==(A.shape[0],k+1):\n",
        "    Q_k = Q_kplus1[:,:k]\n",
        "  else:\n",
        "    Q_k = Q_kplus1\n",
        "   \n",
        "  norms[k] = la.norm(np.dot(Q_k.T, Q_k)-np.identity(Q_k.shape[1]), np.inf)\n",
        "\n",
        "plt.semilogy(list(norms.keys()), list(norms.values()))\n",
        "plt.show()"
      ],
      "metadata": {
        "colab": {
          "base_uri": "https://localhost:8080/",
          "height": 265
        },
        "id": "FKBo8XEmuoiT",
        "outputId": "28f93adb-d11e-428d-ec5c-781ac3852286"
      },
      "execution_count": 9,
      "outputs": [
        {
          "output_type": "display_data",
          "data": {
            "text/plain": [
              "<Figure size 432x288 with 1 Axes>"
            ],
            "image/png": "[encoded data removed]"
          },
          "metadata": {
            "needs_background": "light"
          }
        }
      ]
    },
    {
      "cell_type": "markdown",
      "source": [
        "We observe that as m the number of Arnoldi iterations increases, so does the error. That's because as m increases we have potentially more basis vectors qj, which are not perfectly numerically orthogonal despite being mathematically orthogonal, so the error increases."
      ],
      "metadata": {
        "id": "gE260DdCTOyi"
      }
    },
    {
      "cell_type": "markdown",
      "source": [
        "Let's now have a look at the Lanczos algorithm. First of all let's define a proper function to implement it."
      ],
      "metadata": {
        "id": "B0kdhnBUT-p0"
      }
    },
    {
      "cell_type": "code",
      "source": [
        "def Lanczos_iter(A, x, m):\n",
        "  eps = 1e-13  \n",
        "  Q = np.zeros((A.shape[0], m+1))  \n",
        "  alpha=np.zeros(m)\n",
        "  beta=np.zeros(m)\n",
        "\n",
        "  Q[:, 0] = x/la.norm(x)\n",
        "  r = np.dot(A, Q[:, 0])\n",
        "  alpha[0] = np.dot(Q[:, 0].T, r)\n",
        "  r = r - alpha[0]*Q[:,0]\n",
        "  beta[0] = la.norm(r)\n",
        "  if beta[0]<eps:\n",
        "    return Q[:,0], alpha[0], beta[0]\n",
        "  else:\n",
        "    Q[:,1]=r/beta[0]\n",
        "    for j in range(1,m):    \n",
        "      r = np.dot(A, Q[:, j])\n",
        "      alpha[j] = np.dot(Q[:, j].T, r)\n",
        "      r = r - beta[j-1]*Q[:,j-1] - alpha[j]*Q[:,j]\n",
        "      beta[j] = la.norm(r)    \n",
        "      if beta[j]<eps:\n",
        "        return Q[:,:j], alpha[:j], beta[:j]\n",
        "      else:        \n",
        "        Q[:, j+1]=r/beta[j]\n",
        "    return Q[:,:m+1], alpha[:m], beta[:m]"
      ],
      "metadata": {
        "id": "9zkWf-Fh4ejn"
      },
      "execution_count": 10,
      "outputs": []
    },
    {
      "cell_type": "code",
      "source": [
        "norms = {}\n",
        "for k in range(1,101):\n",
        "  Q_kplus1, alpha_k, beta_k = Lanczos_iter(A, x0, k)\n",
        "\n",
        "  if Q_kplus1.shape==(A.shape[0],k+1):\n",
        "    Q_k = Q_kplus1[:,:k]\n",
        "  else:\n",
        "    Q_k = Q_kplus1\n",
        "\n",
        "  norms[k] = la.norm(np.dot(Q_k.T, Q_k)-np.identity(Q_k.shape[1]), np.inf)\n",
        "\n",
        "plt.semilogy(list(norms.keys()), list(norms.values()))\n",
        "plt.show()"
      ],
      "metadata": {
        "colab": {
          "base_uri": "https://localhost:8080/",
          "height": 265
        },
        "id": "Tu1wxD63EiQ2",
        "outputId": "d2b159a2-b2a5-4c52-a159-3b8b7a78f961"
      },
      "execution_count": 11,
      "outputs": [
        {
          "output_type": "display_data",
          "data": {
            "text/plain": [
              "<Figure size 432x288 with 1 Axes>"
            ],
            "image/png": "[encoded data removed]"
          },
          "metadata": {
            "needs_background": "light"
          }
        }
      ]
    },
    {
      "cell_type": "markdown",
      "source": [
        "As expected, the Lanczos algorithm performs worse compared to the Arnoldi's one regarding the orthogonalitation of the basis vectors of the Krilov subspace. \n",
        "That's why when using Lanczos, usually a reorthogonalition procedure is also applied."
      ],
      "metadata": {
        "id": "MUFL25ydUirN"
      }
    }
  ]
}