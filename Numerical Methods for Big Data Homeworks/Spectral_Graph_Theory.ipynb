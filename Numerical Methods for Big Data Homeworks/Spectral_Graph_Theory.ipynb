{
  "nbformat": 4,
  "nbformat_minor": 0,
  "metadata": {
    "colab": {
      "name": "HW3.ipynb",
      "provenance": [],
      "collapsed_sections": []
    },
    "kernelspec": {
      "name": "python3",
      "display_name": "Python 3"
    },
    "language_info": {
      "name": "python"
    }
  },
  "cells": [
    {
      "cell_type": "code",
      "execution_count": 30,
      "metadata": {
        "id": "RgClClvDoxGO"
      },
      "outputs": [],
      "source": [
        "import numpy as np\n",
        "import numpy.linalg as la\n",
        "from sklearn import datasets\n",
        "import matplotlib.pyplot as plt\n",
        "from sklearn.neighbors import kneighbors_graph\n",
        "from sklearn.neighbors import NearestNeighbors\n",
        "import networkx as nx"
      ]
    },
    {
      "cell_type": "markdown",
      "source": [
        "#Exercise 3.3 point (3)"
      ],
      "metadata": {
        "id": "AzzcOXhkvkQ2"
      }
    },
    {
      "cell_type": "code",
      "source": [
        "n = 6\n",
        "A = np.diag(np.ones(n-1),1) + np.diag(np.ones(n-1),-1)\n",
        "A[0,n-1], A[n-1,0] = 1,1\n",
        "D = np.diag(2*np.ones(n))\n",
        "L = D - A\n",
        "\n",
        "print(f'A = \\n{A}\\nD = \\n{D}\\nL = \\n{L}\\n')\n",
        "\n",
        "# let's also plot the graph\n",
        "G=nx.from_numpy_matrix(A,create_using=nx.MultiDiGraph())\n",
        "nx.draw(G)"
      ],
      "metadata": {
        "colab": {
          "base_uri": "https://localhost:8080/",
          "height": 701
        },
        "id": "7Jgg_1ISvl99",
        "outputId": "a0a456e6-58b3-40f1-b1f6-cdf598eebc74"
      },
      "execution_count": 31,
      "outputs": [
        {
          "output_type": "stream",
          "name": "stdout",
          "text": [
            "A = \n",
            "[[0. 1. 0. 0. 0. 1.]\n",
            " [1. 0. 1. 0. 0. 0.]\n",
            " [0. 1. 0. 1. 0. 0.]\n",
            " [0. 0. 1. 0. 1. 0.]\n",
            " [0. 0. 0. 1. 0. 1.]\n",
            " [1. 0. 0. 0. 1. 0.]]\n",
            "D = \n",
            "[[2. 0. 0. 0. 0. 0.]\n",
            " [0. 2. 0. 0. 0. 0.]\n",
            " [0. 0. 2. 0. 0. 0.]\n",
            " [0. 0. 0. 2. 0. 0.]\n",
            " [0. 0. 0. 0. 2. 0.]\n",
            " [0. 0. 0. 0. 0. 2.]]\n",
            "L = \n",
            "[[ 2. -1.  0.  0.  0. -1.]\n",
            " [-1.  2. -1.  0.  0.  0.]\n",
            " [ 0. -1.  2. -1.  0.  0.]\n",
            " [ 0.  0. -1.  2. -1.  0.]\n",
            " [ 0.  0.  0. -1.  2. -1.]\n",
            " [-1.  0.  0.  0. -1.  2.]]\n",
            "\n"
          ]
        },
        {
          "output_type": "display_data",
          "data": {
            "text/plain": [
              "<Figure size 432x288 with 1 Axes>"
            ],
            "image/png": "[encoded data removed]"
          },
          "metadata": {}
        }
      ]
    },
    {
      "cell_type": "code",
      "source": [
        "# let's construct explicitily the eigenvectors u_k, v_k for k in {0, 1, 2, 3}\n",
        "# and store them in the matrix \"vectors\" as column vectors. We have\n",
        "# vectors = [u0, u1, u2, u3, v0, v1, v2, v3] where u_k, v_k are column vectors\n",
        "\n",
        "vectors = np.zeros((n,2*4))\n",
        "for k in range(4):  \n",
        "  for i in range(n):\n",
        "    vectors[i,k] = np.sin(2*np.pi*k*i/n)\n",
        "    vectors[i,k+4] = np.cos(2*np.pi*k*i/n)  \n",
        "\n",
        "# to plot u_k, v_k (we mean their projection on R^2) we'll use the following variables.\n",
        "# we'll use (X, Y) to indicate the origin and (U, V) to indicate the extreme points of the eigenvectors \n",
        "X = np.zeros(8)\n",
        "Y= np.zeros(8)\n",
        "U = vectors[0,:] # first components of u_k, v_k\n",
        "V = vectors[1,:] # second components of u_k, v_k\n",
        "\n",
        "fig, ax = plt.subplots()\n",
        "q = ax.quiver(X, Y, U, V, units='xy' ,scale=1)\n",
        "\n",
        "plt.grid()\n",
        "\n",
        "ax.set_aspect('equal')\n",
        "\n",
        "plt.xlim(-2,2)\n",
        "plt.ylim(-2,2)"
      ],
      "metadata": {
        "colab": {
          "base_uri": "https://localhost:8080/",
          "height": 286
        },
        "id": "biGtr0Y_AL6B",
        "outputId": "0ef05053-c8e7-4e71-f7f8-897e79d83579"
      },
      "execution_count": 32,
      "outputs": [
        {
          "output_type": "execute_result",
          "data": {
            "text/plain": [
              "(-2.0, 2.0)"
            ]
          },
          "metadata": {},
          "execution_count": 32
        },
        {
          "output_type": "display_data",
          "data": {
            "text/plain": [
              "<Figure size 432x288 with 1 Axes>"
            ],
            "image/png": "[encoded data removed]"
          },
          "metadata": {
            "needs_background": "light"
          }
        }
      ]
    },
    {
      "cell_type": "code",
      "source": [
        "# We notice that some eigenvectors don't seem to show up in the plot, that's because their magnitude is too small, namely:\n",
        "print(f'[u0, u1, u2, u3] = \\n{vectors[:,:4]}')"
      ],
      "metadata": {
        "colab": {
          "base_uri": "https://localhost:8080/"
        },
        "id": "eWIwhiukC6-W",
        "outputId": "835199f0-8325-4636-bf6d-13758955b256"
      },
      "execution_count": 33,
      "outputs": [
        {
          "output_type": "stream",
          "name": "stdout",
          "text": [
            "[u0, u1, u2, u3] = \n",
            "[[ 0.00000000e+00  0.00000000e+00  0.00000000e+00  0.00000000e+00]\n",
            " [ 0.00000000e+00  8.66025404e-01  8.66025404e-01  1.22464680e-16]\n",
            " [ 0.00000000e+00  8.66025404e-01 -8.66025404e-01 -2.44929360e-16]\n",
            " [ 0.00000000e+00  1.22464680e-16 -2.44929360e-16  3.67394040e-16]\n",
            " [ 0.00000000e+00 -8.66025404e-01  8.66025404e-01 -4.89858720e-16]\n",
            " [ 0.00000000e+00 -8.66025404e-01 -8.66025404e-01  2.38868024e-15]]\n"
          ]
        }
      ]
    },
    {
      "cell_type": "markdown",
      "source": [
        "#Exercise 4"
      ],
      "metadata": {
        "id": "s8t4yhF7vmXt"
      }
    },
    {
      "cell_type": "code",
      "source": [
        "# import iris dataset using sklearn\n",
        "iris = datasets.load_iris()\n",
        "# let's extract first and third columns \n",
        "X = iris.data[:, [0,2]]\n",
        "# let's have a look at the points in the dataset\n",
        "plt.scatter(X[:,0],X[:,1])\n",
        "plt.show()"
      ],
      "metadata": {
        "colab": {
          "base_uri": "https://localhost:8080/",
          "height": 265
        },
        "id": "aIop3XYppfS0",
        "outputId": "1705701e-1679-4665-f8ba-71264b49676f"
      },
      "execution_count": 34,
      "outputs": [
        {
          "output_type": "display_data",
          "data": {
            "text/plain": [
              "<Figure size 432x288 with 1 Axes>"
            ],
            "image/png": "[encoded data removed]"
          },
          "metadata": {
            "needs_background": "light"
          }
        }
      ]
    },
    {
      "cell_type": "code",
      "source": [
        "# number of points in the dataset\n",
        "n = X.shape[0]\n",
        "\n",
        "# number of neighbors to use to construct the graph (note that for each point, one of the k nearest neighbors will always be the point itself)\n",
        "k=6\n",
        "\n",
        "# Adjacency matrix of graph using sklearn\n",
        "nbrs = NearestNeighbors(n_neighbors=k, algorithm='auto').fit(X)\n",
        "distances, indices = nbrs.kneighbors(X)\n",
        "\n",
        "A = np.zeros((n,n))\n",
        "# let's fill the Adjacency matrix\n",
        "for i in range(n):\n",
        "  for j in range(n):\n",
        "    if ((j in indices[i]) or (i in indices[j])) and (i!=j):\n",
        "      A[i,j]=1\n",
        "    else:\n",
        "      A[i,j]=0\n",
        "\n",
        "print(f'Adjacency matrix A = \\n{A}\\n')\n",
        "# check if A is symmetric\n",
        "print(f'A is symmetric: {(A==A.T).all()}\\n')\n",
        "\n",
        "# Degree matrix of graph\n",
        "D = np.diag(np.sum(A, axis=1))\n",
        "print(f'\\nDeegre matrix\\n{D}')\n",
        "\n",
        "# Laplacian matrix of graph\n",
        "L = D - A\n",
        "print(f'\\nLaplacian matrix\\n{L}')\n",
        "\n",
        "# first 6 eigenpairs of L\n",
        "eigenValues, eigenVectors = la.eig(L)\n",
        "\n",
        "# let's sort the eigenpairs in increasing order w.r.t. the eigenvalues\n",
        "idx = eigenValues.argsort()[::1]   \n",
        "eigenValues = eigenValues[idx]\n",
        "eigenVectors = eigenVectors[:,idx]\n",
        "\n",
        "print(f'\\nfirst 6 eigenvalues: \\n{eigenValues[:6]}')\n",
        "print(f'\\nand related eigenvectors: \\n{eigenVectors[:6]}')"
      ],
      "metadata": {
        "colab": {
          "base_uri": "https://localhost:8080/"
        },
        "id": "y-esansDrj9g",
        "outputId": "e3ed4675-d647-4b6e-b00b-fb558f065d0f"
      },
      "execution_count": 35,
      "outputs": [
        {
          "output_type": "stream",
          "name": "stdout",
          "text": [
            "Adjacency matrix A = \n",
            "[[0. 0. 0. ... 0. 0. 0.]\n",
            " [0. 0. 0. ... 0. 0. 0.]\n",
            " [0. 0. 0. ... 0. 0. 0.]\n",
            " ...\n",
            " [0. 0. 0. ... 0. 0. 0.]\n",
            " [0. 0. 0. ... 0. 0. 0.]\n",
            " [0. 0. 0. ... 0. 0. 0.]]\n",
            "\n",
            "A is symmetric: True\n",
            "\n",
            "\n",
            "Deegre matrix\n",
            "[[9. 0. 0. ... 0. 0. 0.]\n",
            " [0. 7. 0. ... 0. 0. 0.]\n",
            " [0. 0. 6. ... 0. 0. 0.]\n",
            " ...\n",
            " [0. 0. 0. ... 5. 0. 0.]\n",
            " [0. 0. 0. ... 0. 5. 0.]\n",
            " [0. 0. 0. ... 0. 0. 6.]]\n",
            "\n",
            "Laplacian matrix\n",
            "[[9. 0. 0. ... 0. 0. 0.]\n",
            " [0. 7. 0. ... 0. 0. 0.]\n",
            " [0. 0. 6. ... 0. 0. 0.]\n",
            " ...\n",
            " [0. 0. 0. ... 5. 0. 0.]\n",
            " [0. 0. 0. ... 0. 5. 0.]\n",
            " [0. 0. 0. ... 0. 0. 6.]]\n",
            "\n",
            "first 6 eigenvalues: \n",
            "[8.32667268e-17 8.88178420e-16 3.29843456e-02 8.98201310e-02\n",
            " 1.51967057e-01 1.96710060e-01]\n",
            "\n",
            "and related eigenvectors: \n",
            "[[ 1.41421356e-01  0.00000000e+00  0.00000000e+00  0.00000000e+00\n",
            "  -3.72023748e-02  0.00000000e+00  0.00000000e+00  8.92529446e-02\n",
            "   0.00000000e+00  0.00000000e+00  0.00000000e+00  0.00000000e+00\n",
            "   1.90193962e-01  0.00000000e+00  0.00000000e+00  1.38623103e-01\n",
            "   0.00000000e+00  0.00000000e+00 -1.10671540e-01  0.00000000e+00\n",
            "   0.00000000e+00  4.57709060e-02  0.00000000e+00 -9.29247021e-02\n",
            "   0.00000000e+00 -1.33611931e-02  0.00000000e+00 -4.28145741e-02\n",
            "   0.00000000e+00  0.00000000e+00  0.00000000e+00  9.79814599e-02\n",
            "   0.00000000e+00  0.00000000e+00  0.00000000e+00  0.00000000e+00\n",
            "   0.00000000e+00  2.82623878e-02 -6.30241624e-02  0.00000000e+00\n",
            "   0.00000000e+00 -3.46398076e-02  0.00000000e+00  0.00000000e+00\n",
            "   0.00000000e+00  0.00000000e+00  9.29669850e-02  0.00000000e+00\n",
            "   0.00000000e+00  2.89507470e-02  0.00000000e+00  0.00000000e+00\n",
            "   0.00000000e+00  0.00000000e+00  0.00000000e+00  1.12452334e-16\n",
            "   0.00000000e+00  0.00000000e+00  0.00000000e+00  0.00000000e+00\n",
            "   0.00000000e+00 -5.05228391e-02  0.00000000e+00  0.00000000e+00\n",
            "  -2.49744621e-02  0.00000000e+00  0.00000000e+00  5.09699884e-02\n",
            "   0.00000000e+00  0.00000000e+00 -5.41072815e-02  0.00000000e+00\n",
            "   0.00000000e+00 -7.94894487e-03  0.00000000e+00  3.86761664e-02\n",
            "   0.00000000e+00  0.00000000e+00  0.00000000e+00  0.00000000e+00\n",
            "   2.03310111e-16  6.53414564e-16 -4.01808784e-16  0.00000000e+00\n",
            "   2.65485589e-16  2.47949872e-16  0.00000000e+00  0.00000000e+00\n",
            "   0.00000000e+00  2.64580695e-02  0.00000000e+00  0.00000000e+00\n",
            "   0.00000000e+00 -4.00151586e-02  0.00000000e+00  0.00000000e+00\n",
            "   0.00000000e+00  0.00000000e+00 -2.76318206e-02  0.00000000e+00\n",
            "   0.00000000e+00 -4.26544699e-02  0.00000000e+00  3.65370581e-02\n",
            "   0.00000000e+00  1.67358727e-16  0.00000000e+00 -9.90633586e-17\n",
            "   0.00000000e+00  0.00000000e+00  0.00000000e+00  0.00000000e+00\n",
            "   1.02794037e-02  0.00000000e+00 -2.79731789e-03  0.00000000e+00\n",
            "  -2.91727426e-03  0.00000000e+00  1.22652011e-01  0.00000000e+00\n",
            "   0.00000000e+00  0.00000000e+00 -9.16751242e-02  0.00000000e+00\n",
            "   2.32755463e-01  0.00000000e+00  0.00000000e+00 -1.46309881e-01\n",
            "   0.00000000e+00  0.00000000e+00 -2.02547211e-01  0.00000000e+00\n",
            "   0.00000000e+00 -5.97811267e-01  0.00000000e+00  5.91491246e-02\n",
            "   0.00000000e+00  0.00000000e+00 -1.69503486e-01  0.00000000e+00\n",
            "   1.04451300e-02  0.00000000e+00  0.00000000e+00  0.00000000e+00\n",
            "   0.00000000e+00  0.00000000e+00  3.54251936e-01  1.47676033e-01\n",
            "   0.00000000e+00  4.14175003e-01]\n",
            " [ 1.41421356e-01  0.00000000e+00  0.00000000e+00  0.00000000e+00\n",
            "   3.30714101e-02  0.00000000e+00  0.00000000e+00  1.09505260e-01\n",
            "   0.00000000e+00  0.00000000e+00  0.00000000e+00  0.00000000e+00\n",
            "   1.77345610e-01  0.00000000e+00  0.00000000e+00 -1.76086629e-01\n",
            "   0.00000000e+00  0.00000000e+00  1.66080660e-02  0.00000000e+00\n",
            "   0.00000000e+00 -5.71059120e-02  0.00000000e+00  2.24152851e-01\n",
            "   0.00000000e+00  3.15817419e-02  0.00000000e+00  1.91936881e-02\n",
            "   0.00000000e+00  0.00000000e+00  0.00000000e+00 -1.01411894e-01\n",
            "   0.00000000e+00  0.00000000e+00  0.00000000e+00  0.00000000e+00\n",
            "   0.00000000e+00 -2.95617079e-01 -4.18092917e-02  0.00000000e+00\n",
            "   0.00000000e+00  1.41866682e-01  0.00000000e+00  0.00000000e+00\n",
            "   0.00000000e+00  0.00000000e+00  1.77542952e-02  0.00000000e+00\n",
            "   0.00000000e+00 -1.37593695e-01  0.00000000e+00  0.00000000e+00\n",
            "   0.00000000e+00  0.00000000e+00  0.00000000e+00  5.03868680e-16\n",
            "   0.00000000e+00  0.00000000e+00  0.00000000e+00  0.00000000e+00\n",
            "   0.00000000e+00 -4.23036790e-02  0.00000000e+00  0.00000000e+00\n",
            "  -1.60189566e-01  0.00000000e+00  0.00000000e+00 -1.44178112e-01\n",
            "   0.00000000e+00  0.00000000e+00  1.02621199e-01  0.00000000e+00\n",
            "   0.00000000e+00  5.62050234e-02  0.00000000e+00 -5.85571368e-02\n",
            "   0.00000000e+00  0.00000000e+00  0.00000000e+00  0.00000000e+00\n",
            "  -5.53791037e-16 -1.80357378e-15  1.41361876e-15  0.00000000e+00\n",
            "  -5.98067996e-16 -1.40175250e-15  0.00000000e+00  0.00000000e+00\n",
            "   0.00000000e+00 -7.82922579e-02  0.00000000e+00  0.00000000e+00\n",
            "   0.00000000e+00  1.06683088e-01  0.00000000e+00  0.00000000e+00\n",
            "   0.00000000e+00  0.00000000e+00  2.07364074e-01  0.00000000e+00\n",
            "   0.00000000e+00  1.02950794e-01  0.00000000e+00 -2.70551356e-01\n",
            "   0.00000000e+00 -1.81282701e-15  0.00000000e+00  1.95982181e-15\n",
            "   0.00000000e+00  0.00000000e+00  0.00000000e+00  0.00000000e+00\n",
            "   1.18243595e-01  0.00000000e+00  1.93807175e-02  0.00000000e+00\n",
            "  -3.01691897e-02  0.00000000e+00  4.20071033e-01  0.00000000e+00\n",
            "   0.00000000e+00  0.00000000e+00  3.32301084e-01  0.00000000e+00\n",
            "   3.15276047e-01  0.00000000e+00  0.00000000e+00 -1.68701580e-01\n",
            "   0.00000000e+00  0.00000000e+00 -2.12355730e-02  0.00000000e+00\n",
            "   0.00000000e+00  2.37682676e-01  0.00000000e+00  3.40726393e-02\n",
            "   0.00000000e+00  0.00000000e+00 -1.03612410e-02  0.00000000e+00\n",
            "   3.11217354e-03  0.00000000e+00  0.00000000e+00  0.00000000e+00\n",
            "   0.00000000e+00  0.00000000e+00  4.47483102e-02  2.63510280e-02\n",
            "   0.00000000e+00  9.96044362e-02]\n",
            " [ 1.41421356e-01  0.00000000e+00  0.00000000e+00  0.00000000e+00\n",
            "   1.80424776e-01  0.00000000e+00  0.00000000e+00 -9.28132409e-02\n",
            "   0.00000000e+00  0.00000000e+00  0.00000000e+00  0.00000000e+00\n",
            "   2.97854972e-02  0.00000000e+00  0.00000000e+00 -6.16110921e-02\n",
            "   0.00000000e+00  0.00000000e+00  5.11269560e-02  0.00000000e+00\n",
            "   0.00000000e+00 -1.20648320e-02  0.00000000e+00  3.07495582e-01\n",
            "   0.00000000e+00 -8.50900919e-02  0.00000000e+00  3.85391685e-02\n",
            "   0.00000000e+00  0.00000000e+00  0.00000000e+00  2.19172695e-01\n",
            "   0.00000000e+00  0.00000000e+00  0.00000000e+00  0.00000000e+00\n",
            "   0.00000000e+00  4.57387783e-01 -1.16982961e-01  0.00000000e+00\n",
            "   0.00000000e+00  1.98923050e-01  0.00000000e+00  0.00000000e+00\n",
            "   0.00000000e+00  0.00000000e+00 -7.02693016e-04  0.00000000e+00\n",
            "   0.00000000e+00  7.71418491e-02  0.00000000e+00  0.00000000e+00\n",
            "   0.00000000e+00  0.00000000e+00  0.00000000e+00  3.04918532e-16\n",
            "   0.00000000e+00  0.00000000e+00  0.00000000e+00  0.00000000e+00\n",
            "   0.00000000e+00 -6.27826770e-03  0.00000000e+00  0.00000000e+00\n",
            "   4.05291426e-02  0.00000000e+00  0.00000000e+00  5.51830880e-02\n",
            "   0.00000000e+00  0.00000000e+00 -9.10162120e-02  0.00000000e+00\n",
            "   0.00000000e+00 -4.76769456e-01  0.00000000e+00  1.13516921e-01\n",
            "   0.00000000e+00  0.00000000e+00  0.00000000e+00  0.00000000e+00\n",
            "   2.70903408e-15  1.67131005e-15 -9.33525112e-16  0.00000000e+00\n",
            "   5.32513632e-16  3.10781724e-16  0.00000000e+00  0.00000000e+00\n",
            "   0.00000000e+00 -9.98663344e-02  0.00000000e+00  0.00000000e+00\n",
            "   0.00000000e+00  1.03625182e-01  0.00000000e+00  0.00000000e+00\n",
            "   0.00000000e+00  0.00000000e+00 -1.17922501e-01  0.00000000e+00\n",
            "   0.00000000e+00  8.43314122e-02  0.00000000e+00 -9.24775251e-02\n",
            "   0.00000000e+00  5.52973970e-16  0.00000000e+00  5.74820170e-16\n",
            "   0.00000000e+00  0.00000000e+00  0.00000000e+00  0.00000000e+00\n",
            "  -7.90205646e-03  0.00000000e+00  1.22073782e-01  0.00000000e+00\n",
            "   7.42980138e-02  0.00000000e+00  3.56264685e-02  0.00000000e+00\n",
            "   0.00000000e+00  0.00000000e+00  1.66351563e-02  0.00000000e+00\n",
            "  -4.97173033e-02  0.00000000e+00  0.00000000e+00 -3.14749617e-01\n",
            "   0.00000000e+00  0.00000000e+00  1.65193781e-01  0.00000000e+00\n",
            "   0.00000000e+00  1.79490953e-02  0.00000000e+00  1.16538048e-01\n",
            "   0.00000000e+00  0.00000000e+00  1.97779392e-01  0.00000000e+00\n",
            "   1.92310018e-02  0.00000000e+00  0.00000000e+00  0.00000000e+00\n",
            "   0.00000000e+00  0.00000000e+00  6.08675025e-02  1.43936029e-02\n",
            "   0.00000000e+00  3.98197864e-03]\n",
            " [ 1.41421356e-01  0.00000000e+00  0.00000000e+00  0.00000000e+00\n",
            "   2.04424805e-01  0.00000000e+00  0.00000000e+00 -1.25532731e-01\n",
            "   0.00000000e+00  0.00000000e+00  0.00000000e+00  0.00000000e+00\n",
            "  -2.73993363e-02  0.00000000e+00  0.00000000e+00 -1.75930007e-02\n",
            "   0.00000000e+00  0.00000000e+00  7.73981978e-02  0.00000000e+00\n",
            "   0.00000000e+00  6.93324975e-02  0.00000000e+00 -1.61596280e-01\n",
            "   0.00000000e+00 -5.22642944e-01  0.00000000e+00 -2.35767115e-01\n",
            "   0.00000000e+00  0.00000000e+00  0.00000000e+00 -1.25973460e-01\n",
            "   0.00000000e+00  0.00000000e+00  0.00000000e+00  0.00000000e+00\n",
            "   0.00000000e+00 -7.43643371e-02  8.14109900e-02  0.00000000e+00\n",
            "   0.00000000e+00 -2.65615536e-01  0.00000000e+00  0.00000000e+00\n",
            "   0.00000000e+00  0.00000000e+00  7.32165680e-02  0.00000000e+00\n",
            "   0.00000000e+00 -4.90408827e-01  0.00000000e+00  0.00000000e+00\n",
            "   0.00000000e+00  0.00000000e+00  0.00000000e+00  1.43430792e-15\n",
            "   0.00000000e+00  0.00000000e+00  0.00000000e+00  0.00000000e+00\n",
            "   0.00000000e+00  3.41962022e-02  0.00000000e+00  0.00000000e+00\n",
            "  -1.23349030e-02  0.00000000e+00  0.00000000e+00 -1.18796694e-01\n",
            "   0.00000000e+00  0.00000000e+00  4.92624982e-02  0.00000000e+00\n",
            "   0.00000000e+00 -2.07719325e-01  0.00000000e+00 -6.28771260e-02\n",
            "   0.00000000e+00  0.00000000e+00  0.00000000e+00  0.00000000e+00\n",
            "   8.83223064e-16  8.63884114e-16 -8.93626939e-16  0.00000000e+00\n",
            "   7.56376364e-16  1.37500122e-15  0.00000000e+00  0.00000000e+00\n",
            "   0.00000000e+00  4.81344656e-02  0.00000000e+00  0.00000000e+00\n",
            "   0.00000000e+00 -3.42040416e-02  0.00000000e+00  0.00000000e+00\n",
            "   0.00000000e+00  0.00000000e+00  1.46544393e-01  0.00000000e+00\n",
            "   0.00000000e+00 -7.57380529e-02  0.00000000e+00  6.69031751e-02\n",
            "   0.00000000e+00 -8.16185410e-17  0.00000000e+00 -6.93905751e-16\n",
            "   0.00000000e+00  0.00000000e+00  0.00000000e+00  0.00000000e+00\n",
            "   2.23495797e-02  0.00000000e+00 -1.69261964e-01  0.00000000e+00\n",
            "  -9.83373192e-02  0.00000000e+00 -6.30008749e-02  0.00000000e+00\n",
            "   0.00000000e+00  0.00000000e+00 -6.25786307e-02  0.00000000e+00\n",
            "  -6.07489076e-02  0.00000000e+00  0.00000000e+00 -1.96235907e-01\n",
            "   0.00000000e+00  0.00000000e+00  1.70075270e-04  0.00000000e+00\n",
            "   0.00000000e+00  6.41038899e-03  0.00000000e+00  1.29713311e-01\n",
            "   0.00000000e+00  0.00000000e+00  7.21322185e-02  0.00000000e+00\n",
            "   4.18875630e-03  0.00000000e+00  0.00000000e+00  0.00000000e+00\n",
            "   0.00000000e+00  0.00000000e+00 -1.08987553e-02 -1.00730782e-03\n",
            "   0.00000000e+00  7.22383402e-03]\n",
            " [ 1.41421356e-01  0.00000000e+00  0.00000000e+00  0.00000000e+00\n",
            "   2.47413152e-03  0.00000000e+00  0.00000000e+00  1.13862774e-01\n",
            "   0.00000000e+00  0.00000000e+00  0.00000000e+00  0.00000000e+00\n",
            "   2.11921162e-01  0.00000000e+00  0.00000000e+00 -5.11020217e-02\n",
            "   0.00000000e+00  0.00000000e+00 -1.17331438e-01  0.00000000e+00\n",
            "   0.00000000e+00 -7.26122853e-02  0.00000000e+00 -4.64005932e-02\n",
            "   0.00000000e+00  2.32629392e-02  0.00000000e+00  1.60744408e-04\n",
            "   0.00000000e+00  0.00000000e+00  0.00000000e+00 -6.88206196e-02\n",
            "   0.00000000e+00  0.00000000e+00  0.00000000e+00  0.00000000e+00\n",
            "   0.00000000e+00 -8.16066666e-02 -5.31052904e-02  0.00000000e+00\n",
            "   0.00000000e+00  9.35812627e-02  0.00000000e+00  0.00000000e+00\n",
            "   0.00000000e+00  0.00000000e+00  4.18722820e-02  0.00000000e+00\n",
            "   0.00000000e+00 -1.03577338e-01  0.00000000e+00  0.00000000e+00\n",
            "   0.00000000e+00  0.00000000e+00  0.00000000e+00  1.58177091e-16\n",
            "   0.00000000e+00  0.00000000e+00  0.00000000e+00  0.00000000e+00\n",
            "   0.00000000e+00 -3.75172392e-02  0.00000000e+00  0.00000000e+00\n",
            "  -7.61184967e-02  0.00000000e+00  0.00000000e+00 -1.68359160e-02\n",
            "   0.00000000e+00  0.00000000e+00 -1.83820153e-03  0.00000000e+00\n",
            "   0.00000000e+00 -2.55109868e-02  0.00000000e+00  3.17583302e-02\n",
            "   0.00000000e+00  0.00000000e+00  0.00000000e+00  0.00000000e+00\n",
            "   2.02894304e-17 -2.68524357e-16  9.93222225e-17  0.00000000e+00\n",
            "  -1.11110090e-16 -1.63734815e-16  0.00000000e+00  0.00000000e+00\n",
            "   0.00000000e+00 -2.93309138e-02  0.00000000e+00  0.00000000e+00\n",
            "   0.00000000e+00  2.58427648e-02  0.00000000e+00  0.00000000e+00\n",
            "   0.00000000e+00  0.00000000e+00 -1.49328019e-01  0.00000000e+00\n",
            "   0.00000000e+00 -9.77052207e-03  0.00000000e+00  4.80881462e-02\n",
            "   0.00000000e+00  1.17756460e-15  0.00000000e+00 -4.41233968e-16\n",
            "   0.00000000e+00  0.00000000e+00  0.00000000e+00  0.00000000e+00\n",
            "  -5.29467327e-02  0.00000000e+00 -3.56894899e-02  0.00000000e+00\n",
            "  -1.86840053e-03  0.00000000e+00  2.96516460e-02  0.00000000e+00\n",
            "   0.00000000e+00  0.00000000e+00  2.43637992e-01  0.00000000e+00\n",
            "  -8.75445944e-02  0.00000000e+00  0.00000000e+00  4.80837032e-02\n",
            "   0.00000000e+00  0.00000000e+00  3.68019004e-01  0.00000000e+00\n",
            "   0.00000000e+00 -4.86337910e-01  0.00000000e+00  5.81931512e-02\n",
            "   0.00000000e+00  0.00000000e+00 -1.49926750e-02  0.00000000e+00\n",
            "  -7.07764786e-03  0.00000000e+00  0.00000000e+00  0.00000000e+00\n",
            "   0.00000000e+00  0.00000000e+00 -5.96032891e-01 -1.37681888e-01\n",
            "   0.00000000e+00 -5.29635907e-02]\n",
            " [ 1.41421356e-01  0.00000000e+00  0.00000000e+00  0.00000000e+00\n",
            "  -1.81020540e-01  0.00000000e+00  0.00000000e+00 -1.26222735e-01\n",
            "   0.00000000e+00  0.00000000e+00  0.00000000e+00  0.00000000e+00\n",
            "  -1.88866247e-02  0.00000000e+00  0.00000000e+00  5.10789818e-02\n",
            "   0.00000000e+00  0.00000000e+00  2.04739190e-01  0.00000000e+00\n",
            "   0.00000000e+00 -3.20256045e-01  0.00000000e+00 -2.25325304e-02\n",
            "   0.00000000e+00  3.77931729e-02  0.00000000e+00 -1.06427343e-01\n",
            "   0.00000000e+00  0.00000000e+00  0.00000000e+00  7.55133417e-03\n",
            "   0.00000000e+00  0.00000000e+00  0.00000000e+00  0.00000000e+00\n",
            "   0.00000000e+00 -2.66450817e-03 -1.62820368e-01  0.00000000e+00\n",
            "   0.00000000e+00 -8.27834967e-02  0.00000000e+00  0.00000000e+00\n",
            "   0.00000000e+00  0.00000000e+00 -2.33904559e-01  0.00000000e+00\n",
            "   0.00000000e+00 -3.02896670e-02  0.00000000e+00  0.00000000e+00\n",
            "   0.00000000e+00  0.00000000e+00  0.00000000e+00 -1.10020442e-15\n",
            "   0.00000000e+00  0.00000000e+00  0.00000000e+00  0.00000000e+00\n",
            "   0.00000000e+00 -7.79068992e-02  0.00000000e+00  0.00000000e+00\n",
            "  -5.89776961e-02  0.00000000e+00  0.00000000e+00  2.28197996e-02\n",
            "   0.00000000e+00  0.00000000e+00  3.81473516e-03  0.00000000e+00\n",
            "   0.00000000e+00 -1.78809913e-03  0.00000000e+00  5.34369232e-02\n",
            "   0.00000000e+00  0.00000000e+00  0.00000000e+00  0.00000000e+00\n",
            "  -4.74284786e-02  2.29413871e-01  2.09882166e-01  0.00000000e+00\n",
            "   5.12217550e-01 -5.62070292e-01  0.00000000e+00  0.00000000e+00\n",
            "   0.00000000e+00 -4.91272740e-02  0.00000000e+00  0.00000000e+00\n",
            "   0.00000000e+00 -2.56929959e-02  0.00000000e+00  0.00000000e+00\n",
            "   0.00000000e+00  0.00000000e+00 -2.15313039e-02  0.00000000e+00\n",
            "   0.00000000e+00  1.11037632e-03  0.00000000e+00  2.56868430e-02\n",
            "   0.00000000e+00 -4.87876499e-16  0.00000000e+00  5.27558780e-16\n",
            "   0.00000000e+00  0.00000000e+00  0.00000000e+00  0.00000000e+00\n",
            "  -2.41755015e-01  0.00000000e+00 -1.66079696e-01  0.00000000e+00\n",
            "   1.46839192e-01  0.00000000e+00  1.32753279e-01  0.00000000e+00\n",
            "   0.00000000e+00  0.00000000e+00 -9.99812617e-02  0.00000000e+00\n",
            "   5.14239595e-02  0.00000000e+00  0.00000000e+00 -2.48782808e-03\n",
            "   0.00000000e+00  0.00000000e+00 -8.94475473e-04  0.00000000e+00\n",
            "   0.00000000e+00  1.85776165e-02  0.00000000e+00 -5.75785123e-03\n",
            "   0.00000000e+00  0.00000000e+00  4.40024598e-03  0.00000000e+00\n",
            "   1.01018307e-01  0.00000000e+00  0.00000000e+00  0.00000000e+00\n",
            "   0.00000000e+00  0.00000000e+00 -3.86539735e-02  1.13690366e-01\n",
            "   0.00000000e+00 -3.88501854e-02]]\n"
          ]
        }
      ]
    },
    {
      "cell_type": "code",
      "source": [
        "# to plot the first 6 eigenvectors (we mean their projection on R^2) we'll use the following variables.\n",
        "# we'll use (X_coord, Y_coord) to indicate the origin and (U_coord, V_coord) to indicate the extreme points of the eigenvectors \n",
        "\n",
        "eigenvects = eigenVectors[:6]\n",
        "\n",
        "# matrix in which we'll store the first two components of each of the first 6 eigenvectors\n",
        "vectors = np.zeros((2, 6))\n",
        "for i in range(len(eigenvects)):\n",
        "  vectors[:,i] = eigenvects[i][:2]\n",
        "\n",
        "# let's have a look at these projections\n",
        "print(vectors)\n",
        "\n",
        "X_coord = np.zeros(6)\n",
        "Y_coord = np.zeros(6)\n",
        "U_coord = vectors[0,:] # first components\n",
        "V_coord = vectors[1,:] # second components\n",
        "\n",
        "fig, ax = plt.subplots()\n",
        "q = ax.quiver(X_coord, Y_coord, U_coord, V_coord, units='xy' ,scale=1)\n",
        "\n",
        "plt.grid()\n",
        "\n",
        "ax.set_aspect('equal')\n",
        "\n",
        "plt.xlim(-0.2,0.2)\n",
        "plt.ylim(-0.2,0.2)"
      ],
      "metadata": {
        "colab": {
          "base_uri": "https://localhost:8080/",
          "height": 321
        },
        "id": "E4437PH79C-R",
        "outputId": "b856a5b2-e9f6-4499-efba-7cf6c326c130"
      },
      "execution_count": 36,
      "outputs": [
        {
          "output_type": "stream",
          "name": "stdout",
          "text": [
            "[[0.14142136 0.14142136 0.14142136 0.14142136 0.14142136 0.14142136]\n",
            " [0.         0.         0.         0.         0.         0.        ]]\n"
          ]
        },
        {
          "output_type": "execute_result",
          "data": {
            "text/plain": [
              "(-0.2, 0.2)"
            ]
          },
          "metadata": {},
          "execution_count": 36
        },
        {
          "output_type": "display_data",
          "data": {
            "text/plain": [
              "<Figure size 432x288 with 1 Axes>"
            ],
            "image/png": "[encoded data removed]"
          },
          "metadata": {
            "needs_background": "light"
          }
        }
      ]
    },
    {
      "cell_type": "markdown",
      "source": [
        "We could also implement a custom function to calculate the neighbors of each point in the dataset, without relying on sklearn library. That's exactly what we do in the following cell."
      ],
      "metadata": {
        "id": "-Uza18SFNECa"
      }
    },
    {
      "cell_type": "code",
      "source": [
        "# function which returns a list of (index, distance) of the k nearest neighbors of point in dataset\n",
        "def k_neighbors(point, dataset, k):\n",
        "  neighbors = {}\n",
        "  for i in range(dataset.shape[0]):\n",
        "    neighbors[i]=la.norm(point-dataset[i,:])\n",
        "  lst = list(neighbors.items())\n",
        "  lst.sort(key=lambda x: x[1], reverse=False)\n",
        "  return lst[:k]\n",
        "\n",
        "# for each point in the dataset let's calculate the indexes of its k nearest neighbors\n",
        "k_neighs = {}\n",
        "for i in range(X.shape[0]):  \n",
        "  k_neighs[i] = [tpl[0] for tpl in k_neighbors(X[i,:], X, k)]\n",
        "\n",
        "# let's use these neighbors to construct the adjacency matrix A2 of the graph\n",
        "A2 = np.zeros((n,n))\n",
        "for i in range(n):\n",
        "  for j in range(n):\n",
        "    if ((j in k_neighs[i]) or (i in k_neighs[j])) and (i!=j):\n",
        "      A2[i,j]=1\n",
        "    else:\n",
        "      A2[i,j]=0\n",
        "    \n",
        "# check if A2 is symmetric\n",
        "print(f'A2 is symmetric: {(A2==A2.T).all()}\\n')"
      ],
      "metadata": {
        "id": "WFSxERIkC-xE",
        "colab": {
          "base_uri": "https://localhost:8080/"
        },
        "outputId": "4eb3d0de-8a4d-4e45-8427-083c026830ef"
      },
      "execution_count": 37,
      "outputs": [
        {
          "output_type": "stream",
          "name": "stdout",
          "text": [
            "A2 is symmetric: True\n",
            "\n"
          ]
        }
      ]
    },
    {
      "cell_type": "code",
      "source": [
        "# Note that the two adjacency matrixes might be different! That's because given a point P, there might be multiple points at the same distance from P\n",
        "# and it might happen that the custom function we built and the sklearn method break ties differently\n",
        "print(f'Are the two adjacency matrixes equal? {(A==A2).all()}')\n",
        "\n",
        "# for example, for k=5 we have\n",
        "nbrs_example = NearestNeighbors(n_neighbors=5, algorithm='auto').fit(X)\n",
        "distances_example, indices_example = nbrs_example.kneighbors(X)\n",
        "print(f'5 nearest neighbors of X[97,:] as found by sklearn method: {indices_example[97]}')\n",
        "print(f'5 nearest neighbors X[97,:] as found by custom function: {[tpl[0] for tpl in k_neighbors(X[97,:], X, 5)]}')\n",
        "\n",
        "# the neighbors are different because the distances are the same and ties are broken differently\n",
        "print(f'distance between X[97] and X[51]: {la.norm(X[97,:]-X[51,:])}')\n",
        "print(f'distance between X[97] and X[78]: {la.norm(X[97,:]-X[78,:])}')"
      ],
      "metadata": {
        "colab": {
          "base_uri": "https://localhost:8080/"
        },
        "id": "1oM6BWw7Hkun",
        "outputId": "27b0af29-2274-4b3f-e654-e383abcdba3b"
      },
      "execution_count": 38,
      "outputs": [
        {
          "output_type": "stream",
          "name": "stdout",
          "text": [
            "Are the two adjacency matrixes equal? False\n",
            "5 nearest neighbors of X[97,:] as found by sklearn method: [97 87 74 68 78]\n",
            "5 nearest neighbors X[97,:] as found by custom function: [97, 87, 68, 74, 51]\n",
            "distance between X[97] and X[51]: 0.2828427124746193\n",
            "distance between X[97] and X[78]: 0.2828427124746193\n"
          ]
        }
      ]
    },
    {
      "cell_type": "code",
      "source": [
        "# finally let's plot the k-neighbors graph we built\n",
        "G=nx.from_numpy_matrix(A,create_using=nx.MultiDiGraph())\n",
        "G.edges(data=True)\n",
        "positions = {}\n",
        "for i in range(X.shape[0]):\n",
        "  positions[i] = X[i,:]\n",
        "\n",
        "\n",
        "fig, ax = plt.subplots()\n",
        "nx.draw_networkx(G, pos=positions, node_size=10, node_color='#AB4A00', alpha=0.7, with_labels=False, arrows=False, ax=ax)\n",
        "plt.axis(\"on\")\n",
        "ax.set_xlim(4, 8)\n",
        "ax.set_ylim(0.5,7.8)\n",
        "ax.tick_params(left=True, bottom=True, labelleft=True, labelbottom=True)\n",
        "plt.show()"
      ],
      "metadata": {
        "colab": {
          "base_uri": "https://localhost:8080/",
          "height": 265
        },
        "id": "Oie_zhiOYCLB",
        "outputId": "7349c035-3cb8-4e6d-c1f0-da169c4b0f9a"
      },
      "execution_count": 39,
      "outputs": [
        {
          "output_type": "display_data",
          "data": {
            "text/plain": [
              "<Figure size 432x288 with 1 Axes>"
            ],
            "image/png": "[encoded data removed]"
          },
          "metadata": {
            "needs_background": "light"
          }
        }
      ]
    },
    {
      "cell_type": "markdown",
      "source": [
        "Clearly, as k increases the network tends to have only 1 connected component, with many many edges."
      ],
      "metadata": {
        "id": "kD9SiTSLyBwZ"
      }
    },
    {
      "cell_type": "code",
      "source": [
        "# THIS CELL IS USELESS!! (it's just a different way to plot the network, but it has some visualization issues)\n",
        "\n",
        "# # in the following we try to plot the graph using adjacency matrix. The method works fine but the final visualization is not so good given the points are \n",
        "# # dense in a small region\n",
        "\n",
        "# def add_edge_to_graph(G, e1, e2, w):\n",
        "#   G.add_edge(tuple(e1), tuple(e2), weight=1)\n",
        "\n",
        "\n",
        "# G = nx.Graph()\n",
        "# points = X\n",
        "# edges = [(i,j,1) for i in range(n) for j in range(n) if A[i,j]==1]\n",
        "\n",
        "# for i in range(len(edges)):\n",
        "#     add_edge_to_graph(G, points[edges[i][0]], points[edges[i][1]], edges[i][2]) # connectionstyle='arc3,rad=0.2')\n",
        "\n",
        "# # you want your own layout\n",
        "# #pos = nx.spring_layout(G)\n",
        "# pos = {tuple(point): point for point in points}\n",
        "\n",
        "# # add axis\n",
        "# fig, ax = plt.subplots()\n",
        "# nx.draw(G, pos=pos, node_color='k', alpha=0.01, ax=ax)\n",
        "# nx.draw(G, pos=pos, node_size=7, ax=ax)  # draw nodes and edges\n",
        "# # nx.draw_networkx_labels(G, pos=pos)  # draw node labels/names\n",
        "# # # draw edge weights\n",
        "# # labels = nx.get_edge_attributes(G, 'weight')\n",
        "# # nx.draw_networkx_edge_labels(G, pos, edge_labels=labels, ax=ax)\n",
        "# plt.axis(\"on\")\n",
        "# ax.set_xlim(4, 8)\n",
        "# ax.set_ylim(0.5,7.8)\n",
        "# ax.tick_params(left=True, bottom=True, labelleft=True, labelbottom=True)\n",
        "# plt.show()"
      ],
      "metadata": {
        "id": "Ys-QqjabgOYP"
      },
      "execution_count": null,
      "outputs": []
    }
  ]
}